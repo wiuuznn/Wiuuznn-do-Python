{
 "cells": [
  {
   "cell_type": "markdown",
   "metadata": {},
   "source": [
    "**Problema 1: Calculadora Simples**\n",
    "\n",
    "Crie um módulo que contenha todas as funções para execução das operações de adição, subtração, multiplicação ou divisão.\n",
    "\n",
    "Use esse módulo para uma Python chamada da função `calculadora` que recebe dois números e uma operação como argumentos.\n",
    "\n",
    "A função deve retornar o resultado da operação aplicada aos dois números fornecidos.  \n",
    "\n",
    "Certifique-se de testar sua função com diferentes pares de números e operações para garantir sua correta implementação.\n",
    "\n",
    "Insira abaixo o print dos dois módulos gerados."
   ]
  },
  {
   "cell_type": "markdown",
   "metadata": {},
   "source": [
    "**Insira abaixo as imagens**\n",
    "\n",
    "\n",
    "\n"
   ]
  },
  {
   "cell_type": "markdown",
   "metadata": {},
   "source": [
    "![Alt text](W.png)"
   ]
  },
  {
   "cell_type": "markdown",
   "metadata": {},
   "source": [
    "**Problema 2: Calculadora de área**\n",
    "\n",
    "Calcule a área de um círculo usando a fórmula A=πr^2 , onde r é o raio. Utilize o valor de π do módulo math."
   ]
  },
  {
   "cell_type": "code",
   "execution_count": 17,
   "metadata": {},
   "outputs": [
    {
     "name": "stdout",
     "output_type": "stream",
     "text": [
      "A área do círculo com raio 5 é = 78.54\n"
     ]
    }
   ],
   "source": [
    "import math\n",
    "\n",
    "def calcularArea(raio):\n",
    "    area = math.pi * raio ** 2\n",
    "    return area\n",
    "raio = 5\n",
    "areaDoCirculo = calcularArea(raio)\n",
    "print(f'A área do círculo com raio {raio} é = {areaDoCirculo:.2f}')"
   ]
  },
  {
   "cell_type": "markdown",
   "metadata": {},
   "source": [
    "**Problema 3: Calculadora da hipotenusa**\n",
    "\n",
    "Crie uma função que calcule a hipotenusa de um triângulo retângulo dado os catetos. Use a função math.sqrt() para a raiz quadrada."
   ]
  },
  {
   "cell_type": "code",
   "execution_count": 27,
   "metadata": {},
   "outputs": [
    {
     "name": "stdout",
     "output_type": "stream",
     "text": [
      "A hipotenusa do triângulo retângulo com catetos 3.15 e 5.7 é 6.51\n"
     ]
    }
   ],
   "source": [
    "import math\n",
    "\n",
    "def calcularHipotenusa(a, b):\n",
    "    hipotenusa = math.sqrt(a**2 + b**2)\n",
    "    return hipotenusa\n",
    "cateto1 = 3.15\n",
    "cateto2 = 5.7\n",
    "hipotenusa = calcularHipotenusa(cateto1, cateto2)\n",
    "print(f'A hipotenusa do triângulo retângulo com catetos {cateto1} e {cateto2} é {hipotenusa:.2f}')"
   ]
  },
  {
   "cell_type": "markdown",
   "metadata": {},
   "source": [
    "**Problema 4: Hora atual**\n",
    "\n",
    "Escreva uma função que imprima a hora atual em um formato legível."
   ]
  },
  {
   "cell_type": "code",
   "execution_count": 7,
   "metadata": {},
   "outputs": [
    {
     "name": "stdout",
     "output_type": "stream",
     "text": [
      "Agora são exatamente: 13 horas 51 minutos e 17 segundos.\n"
     ]
    }
   ],
   "source": [
    "from datetime import datetime\n",
    "def horaAtual():\n",
    "    hora_atual = datetime.now().strftime('%H horas %M minutos e %S segundos.')\n",
    "    print(f\"Agora são exatamente: {hora_atual}\")\n",
    "horaAtual()\n"
   ]
  },
  {
   "cell_type": "markdown",
   "metadata": {},
   "source": [
    "**Problema 5: Tempo de espera**\n",
    "\n",
    "Crie um laço onde o código imprima na tela o texto \"Aguarde...\". Deve ser impresso a cada 1 segundo. E ao final de 30 segundos o laço deve ser encerrado. Use time.sleep()."
   ]
  },
  {
   "cell_type": "code",
   "execution_count": 8,
   "metadata": {},
   "outputs": [
    {
     "name": "stdout",
     "output_type": "stream",
     "text": [
      "Aguarde...\n",
      "Aguarde...\n",
      "Aguarde...\n",
      "Aguarde...\n",
      "Aguarde...\n",
      "Aguarde...\n",
      "Aguarde...\n",
      "Aguarde...\n",
      "Aguarde...\n",
      "Aguarde...\n",
      "Aguarde...\n",
      "Aguarde...\n",
      "Aguarde...\n",
      "Aguarde...\n",
      "Aguarde...\n",
      "Aguarde...\n",
      "Aguarde...\n",
      "Aguarde...\n",
      "Aguarde...\n",
      "Aguarde...\n",
      "Aguarde...\n",
      "Aguarde...\n",
      "Aguarde...\n",
      "Aguarde...\n",
      "Aguarde...\n",
      "Aguarde...\n",
      "Aguarde...\n",
      "Aguarde...\n",
      "Aguarde...\n",
      "Aguarde...\n",
      "Tempo encerrado.\n"
     ]
    }
   ],
   "source": [
    "import time\n",
    "\n",
    "tempo_total = 30\n",
    "for i in range(tempo_total):\n",
    "    print(\"Aguarde...\")\n",
    "    time.sleep(1)\n",
    "print(\"Tempo encerrado.\")"
   ]
  },
  {
   "cell_type": "markdown",
   "metadata": {},
   "source": [
    "![Alt text](T.png)"
   ]
  },
  {
   "cell_type": "code",
   "execution_count": null,
   "metadata": {},
   "outputs": [],
   "source": []
  }
 ],
 "metadata": {
  "kernelspec": {
   "display_name": "Python 3",
   "language": "python",
   "name": "python3"
  },
  "language_info": {
   "codemirror_mode": {
    "name": "ipython",
    "version": 3
   },
   "file_extension": ".py",
   "mimetype": "text/x-python",
   "name": "python",
   "nbconvert_exporter": "python",
   "pygments_lexer": "ipython3",
   "version": "3.11.4"
  }
 },
 "nbformat": 4,
 "nbformat_minor": 2
}
