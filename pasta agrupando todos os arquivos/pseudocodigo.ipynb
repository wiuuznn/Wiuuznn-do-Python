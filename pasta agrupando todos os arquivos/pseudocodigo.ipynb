{
 "cells": [
  {
   "cell_type": "markdown",
   "metadata": {},
   "source": [
    "# Pseudocodigo 1 - Calcular área \n",
    " Pseudocodigo para cálculo da área de um paralelograma\n",
    " \n",
    " "
   ]
  },
  {
   "cell_type": "code",
   "execution_count": 1,
   "metadata": {},
   "outputs": [],
   "source": [
    "# solicitar ao operador o valor da base \n",
    "# solicitar ao operador o valor da altura\n",
    "# calcular a área multiplicando a base pela altura \n",
    "# imprimir o resultado da multiplicação\n"
   ]
  },
  {
   "cell_type": "markdown",
   "metadata": {},
   "source": [
    "# Pseudocodigo 2 - Calculadora simples\n",
    " Pseudocodigo para uma calculadora simples \n",
    " "
   ]
  },
  {
   "cell_type": "code",
   "execution_count": null,
   "metadata": {},
   "outputs": [],
   "source": [
    "# solicitar ao operador qual o primeiro número \n",
    "# solicitar ao operador o segundo número \n",
    "# selecionar qual a operação irei realizar (+, -, *, /)\n",
    "# se '+' resultado + numero 1 + numero 2 \n",
    "# se '-' resultado + numero 1 - numero 2\n",
    "# se '*' resultado + numero 1 * numero 2\n",
    "# se '/' resultado + numero 1 / numero 2\n",
    "# imprimir o valor do resultado na saída "
   ]
  }
 ],
 "metadata": {
  "kernelspec": {
   "display_name": "base",
   "language": "python",
   "name": "python3"
  },
  "language_info": {
   "codemirror_mode": {
    "name": "ipython",
    "version": 3
   },
   "file_extension": ".py",
   "mimetype": "text/x-python",
   "name": "python",
   "nbconvert_exporter": "python",
   "pygments_lexer": "ipython3",
   "version": "3.11.4"
  },
  "orig_nbformat": 4
 },
 "nbformat": 4,
 "nbformat_minor": 2
}
