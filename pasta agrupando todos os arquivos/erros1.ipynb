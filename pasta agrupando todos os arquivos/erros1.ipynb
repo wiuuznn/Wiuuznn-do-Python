{
 "cells": [
  {
   "cell_type": "code",
   "execution_count": 1,
   "metadata": {},
   "outputs": [
    {
     "name": "stdout",
     "output_type": "stream",
     "text": [
      "2\n",
      "2\n",
      "não é um numero\n",
      "não é um numero\n",
      "não é um numero\n"
     ]
    }
   ],
   "source": [
    "while True:\n",
    "    try:\n",
    "        x = int(input(\"insira um numero\"))\n",
    "        print(x)\n",
    "    except:\n",
    "        print(\"não é um numero\")"
   ]
  },
  {
   "cell_type": "code",
   "execution_count": null,
   "metadata": {},
   "outputs": [],
   "source": [
    "while True:\n",
    "    try:\n",
    "        x = int(input(\"insira um número\"))\n",
    "        print(x)\n",
    "        if x == 'never':\n",
    "            break\n",
    "    except:\n",
    "        print(\"não é um numero\")\n"
   ]
  },
  {
   "cell_type": "code",
   "execution_count": 1,
   "metadata": {},
   "outputs": [
    {
     "name": "stdout",
     "output_type": "stream",
     "text": [
      "não é um numero\n",
      "sempre rodarei esse bloco.\n",
      "2\n",
      "rodou legal...\n",
      "sempre rodarei esse bloco.\n",
      "2\n",
      "rodou legal...\n",
      "sempre rodarei esse bloco.\n",
      "2\n",
      "rodou legal...\n",
      "sempre rodarei esse bloco.\n",
      "não é um numero\n",
      "sempre rodarei esse bloco.\n",
      "não é um numero\n",
      "sempre rodarei esse bloco.\n",
      "não é um numero\n",
      "sempre rodarei esse bloco.\n",
      "32\n",
      "rodou legal...\n",
      "sempre rodarei esse bloco.\n"
     ]
    }
   ],
   "source": [
    "while True:\n",
    "    try:\n",
    "        x = int(input(\"insira um numero\"))\n",
    "        print(x)\n",
    "    except:\n",
    "        print(\"não é um número\")\n",
    "    else:\n",
    "        print(\"rodou legal...\")\n",
    "    finally:\n",
    "        print(\"sempre rodarei esse bloco.\")"
   ]
  },
  {
   "cell_type": "code",
   "execution_count": 3,
   "metadata": {},
   "outputs": [
    {
     "name": "stdout",
     "output_type": "stream",
     "text": [
      "2\n",
      "3\n",
      "4\n",
      "deu erro, continua no proximo loop\n",
      "deu erro, continua no proximo loop\n",
      "deu erro, continua no proximo loop\n",
      "total de erros atingido, limite excedido!\n"
     ]
    }
   ],
   "source": [
    "totaldeerros = 0\n",
    "while True:\n",
    "    try:\n",
    "        x = int(input(\"insira um numero\"))\n",
    "        print(x)\n",
    "    except:\n",
    "        print(\"deu erro, continua no proximo loop\")\n",
    "        totaldeerros += 1\n",
    "        if totaldeerros == 3:\n",
    "            print(\"total de erros atingido, limite excedido!\")\n",
    "            break\n",
    "        continue"
   ]
  },
  {
   "cell_type": "code",
   "execution_count": null,
   "metadata": {},
   "outputs": [],
   "source": []
  }
 ],
 "metadata": {
  "kernelspec": {
   "display_name": "base",
   "language": "python",
   "name": "python3"
  },
  "language_info": {
   "codemirror_mode": {
    "name": "ipython",
    "version": 3
   },
   "file_extension": ".py",
   "mimetype": "text/x-python",
   "name": "python",
   "nbconvert_exporter": "python",
   "pygments_lexer": "ipython3",
   "version": "3.11.4"
  },
  "orig_nbformat": 4
 },
 "nbformat": 4,
 "nbformat_minor": 2
}
