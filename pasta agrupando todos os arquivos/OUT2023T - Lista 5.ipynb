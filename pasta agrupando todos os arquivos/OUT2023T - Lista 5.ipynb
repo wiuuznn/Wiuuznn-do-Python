{
 "cells": [
  {
   "cell_type": "markdown",
   "metadata": {},
   "source": [
    "### Faça um código para os exercicios a seguir:"
   ]
  },
  {
   "cell_type": "markdown",
   "metadata": {},
   "source": [
    "(1) Crie uma estrutura que pergunte ao usuário qual o dia da semana. Se o dia for igual a Domingo ou igual a sábado, imprima na tela \"Hoje é dia de descanso\", caso contrário imprima na tela \"Você precisa trabalhar!\""
   ]
  },
  {
   "cell_type": "code",
   "execution_count": 1,
   "metadata": {},
   "outputs": [],
   "source": [
    "# coloque sua resposta aqui. Use os # para escrever em comentários.\n"
   ]
  },
  {
   "cell_type": "markdown",
   "metadata": {},
   "source": [
    "(2) Crie uma lista de 5 frutas e peça ao operador para inserir uma fruta. Verifique se a fruta inserida faz parte da lista e informe ao operador a resposta"
   ]
  },
  {
   "cell_type": "code",
   "execution_count": null,
   "metadata": {},
   "outputs": [],
   "source": [
    "# coloque sua resposta aqui. Use os # para escrever em comentários.\n"
   ]
  },
  {
   "cell_type": "markdown",
   "metadata": {},
   "source": [
    "(3) Peça ao operador para inserir um valor de temperatura. \n",
    "- Se a temperatura for maior que 35, imprima na tela \"Muito Calor\".\n",
    "- Se for maior que 25, imprima na tela \"Tempo pede Praia\".\n",
    "- Se for maior que 18, imprima na tela \"Melhor ir trabalhar\"\n",
    "- Se for abaixo de 18, imprima na tela \"Melhor ficar em casa\"."
   ]
  },
  {
   "cell_type": "code",
   "execution_count": null,
   "metadata": {},
   "outputs": [],
   "source": [
    "# coloque sua resposta aqui. Use os # para escrever em comentários.\n"
   ]
  },
  {
   "cell_type": "markdown",
   "metadata": {},
   "source": [
    "(4) Peça ao operador para inserir um número. Imprima se o numero inserido for par ou impar"
   ]
  },
  {
   "cell_type": "code",
   "execution_count": null,
   "metadata": {},
   "outputs": [],
   "source": [
    "# coloque sua resposta aqui. Use os # para escrever em comentários.\n"
   ]
  },
  {
   "cell_type": "markdown",
   "metadata": {},
   "source": [
    "(5) Peça ao operador para inserir um numero. Imprima se o numero for um número primo ou não."
   ]
  },
  {
   "cell_type": "code",
   "execution_count": null,
   "metadata": {},
   "outputs": [],
   "source": [
    "# coloque sua resposta aqui. Use os # para escrever em comentários.\n"
   ]
  },
  {
   "cell_type": "markdown",
   "metadata": {},
   "source": [
    "(6) Faça a correção dos erros no código abaixo e execute o programa. Dica: são 3 erros.\n"
   ]
  },
  {
   "cell_type": "code",
   "execution_count": null,
   "metadata": {},
   "outputs": [],
   "source": [
    "temperatura = float(input('Qual a temperatura? '))\n",
    "if temperatura > 30 \n",
    "print('Vista roupas leves.')\n",
    "else {\n",
    "    print('Busque seus casacos.')\n",
    "}"
   ]
  },
  {
   "cell_type": "markdown",
   "metadata": {},
   "source": [
    "(7) Faça um programa que conte quantas vezes a letra \"r\" aparece na frase abaixo. Use um placeholder na sua instrução de impressão\n",
    "\n",
    "“A gratidão é a virtude das almas nobres. O quão feliz é uma pessoa depende da profundidade de sua gratidão.” \n"
   ]
  },
  {
   "cell_type": "code",
   "execution_count": null,
   "metadata": {},
   "outputs": [],
   "source": [
    "# coloque sua resposta aqui. Use os # para escrever em comentários.\n"
   ]
  },
  {
   "cell_type": "markdown",
   "metadata": {},
   "source": [
    "(8) Escreva um programa que pergunte ao operador os lados de um triângulo e verifique se o mesmo é um triângulo válido. Dica: Para um triângulo ser válido a soma de dois dos seus lados tem que ser maior que o terceiro, caso contrário, o triângulo é inválido."
   ]
  },
  {
   "cell_type": "code",
   "execution_count": null,
   "metadata": {},
   "outputs": [],
   "source": [
    "# coloque sua resposta aqui. Use os # para escrever em comentários.\n"
   ]
  },
  {
   "cell_type": "markdown",
   "metadata": {},
   "source": [
    "(9) Crie uma calculadora de parcelamento onde o código deve:\n",
    "- receber o valor em reais \n",
    "- a quantidade de parcelas para realizar o calculo \n",
    "- o valor do salário do operador\n",
    "- enviar para o operador os valores que foram calculados. \n",
    "O valor deve ser mostrado com todas as informações passadas pelo operador e deve conter o valor da parcela arredondado com 2 casas decimais.\n",
    "- Se o valor das parcelas exceder 30% do salário informado pelo Operador, deve ser impresso na tela \"Compra Negada\""
   ]
  },
  {
   "cell_type": "code",
   "execution_count": null,
   "metadata": {},
   "outputs": [],
   "source": [
    "# coloque sua resposta aqui. Use os # para escrever em comentários.\n"
   ]
  },
  {
   "cell_type": "markdown",
   "metadata": {},
   "source": [
    "(10) Faça uma calculadora onde o operador insira o valor de litros no tanque de gasolina e o consumo do carro em km/l para calcular e imprimir: \"Carro consegue viajar\" xxx \"kilometros com o nível atual do tanque.\"\n",
    "O valor em litros do tanque não pode exceder 55 litros."
   ]
  },
  {
   "cell_type": "code",
   "execution_count": null,
   "metadata": {},
   "outputs": [],
   "source": [
    "# coloque sua resposta aqui. Use os # para escrever em comentários.\n"
   ]
  },
  {
   "cell_type": "markdown",
   "metadata": {},
   "source": [
    "(11) Faça um programa que calcule a média ponderada de um aluno onde deve receber os valores da Prova 1 (P1= 0 ~ 100) e da Prova 2 (P2= 0 ~ 100), considerando que o peso da P1 é $0.4$ e o peso da P2 é $0.6$.\n",
    "Se a nota for maior que 70 deve imprimir na tela \"APROVADO\", caso contrário \"REPROVADO\"."
   ]
  },
  {
   "cell_type": "code",
   "execution_count": null,
   "metadata": {},
   "outputs": [],
   "source": [
    "# coloque sua resposta aqui. Use os # para escrever em comentários.\n"
   ]
  }
 ],
 "metadata": {
  "kernelspec": {
   "display_name": "Python 3 (ipykernel)",
   "language": "python",
   "name": "python3"
  },
  "language_info": {
   "codemirror_mode": {
    "name": "ipython",
    "version": 3
   },
   "file_extension": ".py",
   "mimetype": "text/x-python",
   "name": "python",
   "nbconvert_exporter": "python",
   "pygments_lexer": "ipython3",
   "version": "3.11.5"
  }
 },
 "nbformat": 4,
 "nbformat_minor": 2
}
