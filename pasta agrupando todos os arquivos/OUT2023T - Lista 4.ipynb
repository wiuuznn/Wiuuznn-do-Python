{
 "cells": [
  {
   "cell_type": "markdown",
   "metadata": {},
   "source": [
    "### Faça um código para os exercicios a seguir:"
   ]
  },
  {
   "cell_type": "markdown",
   "metadata": {},
   "source": [
    "(1) Imprima os números de 1 a 10. Use uma lista para armazenar os números."
   ]
  },
  {
   "cell_type": "code",
   "execution_count": 1,
   "metadata": {},
   "outputs": [],
   "source": [
    "# coloque sua resposta aqui. Use os # para escrever em comentários.\n"
   ]
  },
  {
   "cell_type": "markdown",
   "metadata": {},
   "source": [
    "(2) Crie uma lista de 5 objetos e imprima na tela\n"
   ]
  },
  {
   "cell_type": "code",
   "execution_count": 2,
   "metadata": {},
   "outputs": [],
   "source": [
    "# coloque sua resposta aqui. Use os # para escrever em comentários.\n"
   ]
  },
  {
   "cell_type": "markdown",
   "metadata": {},
   "source": [
    "\n",
    "(3) Crie uma tupla com os seguintes elementos: 1, 2, 2, 3, 4, 4, 4, 5 e depois utilize a função count do objeto tupla para verificar quantas vezes o número 4 aparece na tupla\n"
   ]
  },
  {
   "cell_type": "code",
   "execution_count": 3,
   "metadata": {},
   "outputs": [],
   "source": [
    "# coloque sua resposta aqui. Use os # para escrever em comentários.\n"
   ]
  },
  {
   "cell_type": "markdown",
   "metadata": {},
   "source": [
    "(4) Crie duas strings e concatene as duas em uma terceira string\n",
    "\n",
    "string1 = 'Se beber '\n",
    "\n",
    "string2 = 'não dirija!'"
   ]
  },
  {
   "cell_type": "code",
   "execution_count": 4,
   "metadata": {},
   "outputs": [],
   "source": [
    "# coloque sua resposta aqui. Use os # para escrever em comentários.\n"
   ]
  },
  {
   "cell_type": "markdown",
   "metadata": {},
   "source": [
    "(5) Crie um dicionário vazio e imprima na tela"
   ]
  },
  {
   "cell_type": "code",
   "execution_count": 5,
   "metadata": {},
   "outputs": [],
   "source": [
    "# coloque sua resposta aqui. Use os # para escrever em comentários.\n"
   ]
  },
  {
   "cell_type": "markdown",
   "metadata": {},
   "source": [
    "(6) Crie um dicionário com 3 chaves e 3 valores e imprima na tela\n",
    "\n",
    "dict = {'k1':'martelo', 'k2':'serrote', 'k3':'machado'}"
   ]
  },
  {
   "cell_type": "code",
   "execution_count": 6,
   "metadata": {},
   "outputs": [],
   "source": [
    "# coloque sua resposta aqui. Use os # para escrever em comentários.\n"
   ]
  },
  {
   "cell_type": "markdown",
   "metadata": {},
   "source": [
    "(7) Adicione mais um elemento ao dicionário criado no exercício anterior com o valor \"parafuso\" e imprima na tela\n"
   ]
  },
  {
   "cell_type": "code",
   "execution_count": 7,
   "metadata": {},
   "outputs": [],
   "source": [
    "# coloque sua resposta aqui. Use os # para escrever em comentários.\n"
   ]
  },
  {
   "cell_type": "markdown",
   "metadata": {},
   "source": [
    "(8) Crie um dicionário com 3 chaves e 3 valores. \n",
    "\n",
    "Um dos valores deve ser uma lista de 2 elementos numéricos. \n",
    "\n",
    "Imprima o dicionário.\n"
   ]
  },
  {
   "cell_type": "code",
   "execution_count": 8,
   "metadata": {},
   "outputs": [],
   "source": [
    "# coloque sua resposta aqui. Use os # para escrever em comentários.\n"
   ]
  },
  {
   "cell_type": "markdown",
   "metadata": {},
   "source": [
    "(9) Crie uma lista de 4 elementos. \n",
    "- O primeiro elemento deve ser uma string, \n",
    "- O segundo uma tupla de 2 elementos\n",
    "- O terceiro um dicionário com 2 chaves e 2 valores\n",
    "- O quarto elemento um valor do tipo float.\n",
    "\n",
    "Imprima a lista na tela.\n"
   ]
  },
  {
   "cell_type": "code",
   "execution_count": 9,
   "metadata": {},
   "outputs": [],
   "source": [
    "# coloque sua resposta aqui. Use os # para escrever em comentários.\n"
   ]
  },
  {
   "cell_type": "markdown",
   "metadata": {},
   "source": [
    "(10) Considere a string abaixo. Extrai a palavra 'PYTHON' e imprima na tela em letras maiúsculas.\n",
    "\n",
    "frase = 'Aprender Python é mais fácil do que parece.'\n",
    "\n"
   ]
  },
  {
   "cell_type": "code",
   "execution_count": null,
   "metadata": {},
   "outputs": [],
   "source": [
    "# coloque sua resposta aqui. Use os # para escrever em comentários.\n"
   ]
  }
 ],
 "metadata": {
  "kernelspec": {
   "display_name": "Python 3 (ipykernel)",
   "language": "python",
   "name": "python3"
  },
  "language_info": {
   "codemirror_mode": {
    "name": "ipython",
    "version": 3
   },
   "file_extension": ".py",
   "mimetype": "text/x-python",
   "name": "python",
   "nbconvert_exporter": "python",
   "pygments_lexer": "ipython3",
   "version": "3.11.5"
  }
 },
 "nbformat": 4,
 "nbformat_minor": 2
}
