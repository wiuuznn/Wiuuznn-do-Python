{
 "cells": [
  {
   "cell_type": "markdown",
   "metadata": {},
   "source": [
    "# Funções "
   ]
  },
  {
   "cell_type": "markdown",
   "metadata": {},
   "source": [
    "  \n",
    "Observe a sintaxe abaixo:  \n",
    "```\n",
    "def nome_função(argumentos_opcionais):\n",
    "    <instruções (corpo da função)>\n",
    "```\n",
    "- começa sempre com a palavra-chave *def* (de define);  \n",
    "- depois de *def* passamos o nome da função (as regras para nomear funções são exatamente as mesmas que para nomear variáveis);  \n",
    "- em seguida ao nome da função, há um par de parênteses obrigatórios, são os argumentos opcionais da função;\n",
    "- a linha deve ser terminada com dois pontos;\n",
    "- a linha logo após *def* inicia o corpo da função - um par (pelo menos um) de instruções necessariamente aninhadas, que serão executadas sempre que a função for chamada."
   ]
  },
  {
   "cell_type": "markdown",
   "metadata": {},
   "source": [
    "# função sem argumentos"
   ]
  },
  {
   "cell_type": "code",
   "execution_count": 6,
   "metadata": {},
   "outputs": [
    {
     "name": "stdout",
     "output_type": "stream",
     "text": [
      "Entre um valor: \n"
     ]
    }
   ],
   "source": [
    "# coloque seu código aqui\n",
    "def mensagem():\n",
    "    print(\"Entre um valor: \")\n",
    "#chamando a função\n",
    "mensagem()"
   ]
  },
  {
   "cell_type": "markdown",
   "metadata": {},
   "source": [
    "O que acontece quando você tenta invocar uma função antes de defini-la? Exemplo:"
   ]
  },
  {
   "cell_type": "code",
   "execution_count": 2,
   "metadata": {},
   "outputs": [
    {
     "ename": "NameError",
     "evalue": "name 'oi' is not defined",
     "output_type": "error",
     "traceback": [
      "\u001b[1;31m---------------------------------------------------------------------------\u001b[0m",
      "\u001b[1;31mNameError\u001b[0m                                 Traceback (most recent call last)",
      "\u001b[1;32mc:\\Users\\D18_03\\Desktop\\Wiuuznn do Python\\OUT2023T - Lista 8.ipynb Célula 6\u001b[0m line \u001b[0;36m2\n\u001b[0;32m      <a href='vscode-notebook-cell:/c%3A/Users/D18_03/Desktop/Wiuuznn%20do%20Python/OUT2023T%20-%20Lista%208.ipynb#W5sZmlsZQ%3D%3D?line=0'>1</a>\u001b[0m \u001b[39m# coloque seu código aqui\u001b[39;00m\n\u001b[1;32m----> <a href='vscode-notebook-cell:/c%3A/Users/D18_03/Desktop/Wiuuznn%20do%20Python/OUT2023T%20-%20Lista%208.ipynb#W5sZmlsZQ%3D%3D?line=1'>2</a>\u001b[0m oi()\n\u001b[0;32m      <a href='vscode-notebook-cell:/c%3A/Users/D18_03/Desktop/Wiuuznn%20do%20Python/OUT2023T%20-%20Lista%208.ipynb#W5sZmlsZQ%3D%3D?line=3'>4</a>\u001b[0m \u001b[39mdef\u001b[39;00m \u001b[39moi\u001b[39m():\n\u001b[0;32m      <a href='vscode-notebook-cell:/c%3A/Users/D18_03/Desktop/Wiuuznn%20do%20Python/OUT2023T%20-%20Lista%208.ipynb#W5sZmlsZQ%3D%3D?line=4'>5</a>\u001b[0m     \u001b[39mprint\u001b[39m(\u001b[39m\"\u001b[39m\u001b[39mBom dia!\u001b[39m\u001b[39m\"\u001b[39m)\n",
      "\u001b[1;31mNameError\u001b[0m: name 'oi' is not defined"
     ]
    }
   ],
   "source": [
    "# coloque seu código aqui\n",
    "oi()\n",
    "\n",
    "def oi():\n",
    "    print(\"Bom dia!\")\n",
    " "
   ]
  },
  {
   "cell_type": "markdown",
   "metadata": {},
   "source": [
    "O que acontecerá quando você executar o código abaixo?"
   ]
  },
  {
   "cell_type": "code",
   "execution_count": 1,
   "metadata": {},
   "outputs": [
    {
     "ename": "TypeError",
     "evalue": "oi() takes 0 positional arguments but 1 was given",
     "output_type": "error",
     "traceback": [
      "\u001b[1;31m---------------------------------------------------------------------------\u001b[0m",
      "\u001b[1;31mTypeError\u001b[0m                                 Traceback (most recent call last)",
      "\u001b[1;32mc:\\Users\\D18_03\\Desktop\\Wiuuznn do Python\\funções.ipynb Célula 8\u001b[0m line \u001b[0;36m6\n\u001b[0;32m      <a href='vscode-notebook-cell:/c%3A/Users/D18_03/Desktop/Wiuuznn%20do%20Python/fun%C3%A7%C3%B5es.ipynb#X10sZmlsZQ%3D%3D?line=2'>3</a>\u001b[0m \u001b[39mdef\u001b[39;00m \u001b[39moi\u001b[39m():\n\u001b[0;32m      <a href='vscode-notebook-cell:/c%3A/Users/D18_03/Desktop/Wiuuznn%20do%20Python/fun%C3%A7%C3%B5es.ipynb#X10sZmlsZQ%3D%3D?line=3'>4</a>\u001b[0m     \u001b[39mprint\u001b[39m(\u001b[39m\"\u001b[39m\u001b[39mBom dia\u001b[39m\u001b[39m\"\u001b[39m)\n\u001b[1;32m----> <a href='vscode-notebook-cell:/c%3A/Users/D18_03/Desktop/Wiuuznn%20do%20Python/fun%C3%A7%C3%B5es.ipynb#X10sZmlsZQ%3D%3D?line=5'>6</a>\u001b[0m oi(\u001b[39m\"\u001b[39m\u001b[39mok\u001b[39m\u001b[39m\"\u001b[39m)\n",
      "\u001b[1;31mTypeError\u001b[0m: oi() takes 0 positional arguments but 1 was given"
     ]
    }
   ],
   "source": [
    "# coloque seu código aqui\n",
    "\n",
    "def oi():\n",
    "    print(\"Bom dia\")\n",
    " \n",
    "oi(\"ok\")\n",
    " "
   ]
  },
  {
   "cell_type": "markdown",
   "metadata": {},
   "source": [
    "# função com argumentos"
   ]
  },
  {
   "cell_type": "code",
   "execution_count": 7,
   "metadata": {},
   "outputs": [
    {
     "name": "stdout",
     "output_type": "stream",
     "text": [
      "Olá Maria! Você é de Paris?\n",
      "Olá São Paulo! Você é de Roberto?\n"
     ]
    }
   ],
   "source": [
    "# coloque seu código aqui\n",
    "def funcao(nome, lugar):\n",
    "    print(f\"Olá {nome}! Você é de {lugar}?\")\n",
    "\n",
    "#chamando a função\n",
    "funcao(\"Maria\",\"Paris\")\n",
    "funcao(\"São Paulo\",\"Roberto\")"
   ]
  },
  {
   "cell_type": "markdown",
   "metadata": {},
   "source": [
    "# argumentos posicionais \n",
    "O Python oferece outra convenção para a passagem de argumentos, em que o significado do argumento é determinado por seu nome, e não por sua posição - é chamado de passagem de argumento de *palavra-chave*.  \n",
    "Portanto, no exemplo acima, o primeiro argumento é o `nome` e o segundo é o `lugar`.  \n",
    "Nesse caso, podemos usar a *palavra-chave*  para determinar qual argumento queremo usar, independente da posição original."
   ]
  },
  {
   "cell_type": "code",
   "execution_count": 9,
   "metadata": {},
   "outputs": [
    {
     "name": "stdout",
     "output_type": "stream",
     "text": [
      "Olá Paulo! Você é de Rio de Janeiro?\n"
     ]
    }
   ],
   "source": [
    "#chamando a função\n",
    "funcao(lugar=\"Rio de Janeiro\", nome= \"Paulo\")\n"
   ]
  },
  {
   "cell_type": "markdown",
   "metadata": {},
   "source": [
    "# valor-padrão\n",
    "\n",
    "Vimos aqui que a posição passou a ser irrelevante pq vc colocou os nomes de cada um dos argumentos.  \n",
    "Podemos especificar os *valores-padrão* dos argumentos caso eles não sejam fornecidos.\n",
    "Nesse caso, os argumentos `valor` e `bonus` assumem os valores determinados na função toda vez que ele não for explicitamente fornecido na chamada da função."
   ]
  },
  {
   "cell_type": "code",
   "execution_count": 15,
   "metadata": {},
   "outputs": [
    {
     "name": "stdout",
     "output_type": "stream",
     "text": [
      "O total da comissão sera de R$1050\n"
     ]
    }
   ],
   "source": [
    "# coloque seu código aqui\n",
    "def comissao(valor=1000, bonus=50):\n",
    "    total = valor + bonus\n",
    "    print(f\"O total da comissão sera de R${total}\")\n",
    "\n",
    "#chamando a função\n",
    "comissao()\n"
   ]
  },
  {
   "cell_type": "code",
   "execution_count": 17,
   "metadata": {},
   "outputs": [
    {
     "name": "stdout",
     "output_type": "stream",
     "text": [
      "O total da comissão sera de R$220\n"
     ]
    }
   ],
   "source": [
    "comissao(200, 20)"
   ]
  },
  {
   "cell_type": "code",
   "execution_count": 21,
   "metadata": {},
   "outputs": [
    {
     "name": "stdout",
     "output_type": "stream",
     "text": [
      "O total da comissão sera de R$2000\n"
     ]
    }
   ],
   "source": [
    "comissao(bonus=1000)"
   ]
  },
  {
   "cell_type": "code",
   "execution_count": 19,
   "metadata": {},
   "outputs": [
    {
     "name": "stdout",
     "output_type": "stream",
     "text": [
      "O total da comissão sera de R$2050\n"
     ]
    }
   ],
   "source": [
    "comissao(2000)"
   ]
  },
  {
   "cell_type": "code",
   "execution_count": 20,
   "metadata": {},
   "outputs": [
    {
     "name": "stdout",
     "output_type": "stream",
     "text": [
      "O total da comissão sera de R$5080\n"
     ]
    }
   ],
   "source": [
    "comissao(5000, bonus=80)"
   ]
  },
  {
   "cell_type": "code",
   "execution_count": 22,
   "metadata": {},
   "outputs": [
    {
     "ename": "SyntaxError",
     "evalue": "positional argument follows keyword argument (820914446.py, line 2)",
     "output_type": "error",
     "traceback": [
      "\u001b[1;36m  Cell \u001b[1;32mIn[22], line 2\u001b[1;36m\u001b[0m\n\u001b[1;33m    comissao(valor=5000, 80)\u001b[0m\n\u001b[1;37m                           ^\u001b[0m\n\u001b[1;31mSyntaxError\u001b[0m\u001b[1;31m:\u001b[0m positional argument follows keyword argument\n"
     ]
    }
   ],
   "source": [
    "#chamando a função \n",
    "comissao(valor=5000, 80)\n",
    "\n",
    "# argumento posicional não pode aparecer após argumentos de palavra-chave.\n",
    "# ao contrário não haverá erros "
   ]
  },
  {
   "cell_type": "markdown",
   "metadata": {},
   "source": [
    "# Recebendo valores de input"
   ]
  },
  {
   "cell_type": "code",
   "execution_count": 24,
   "metadata": {},
   "outputs": [
    {
     "name": "stdout",
     "output_type": "stream",
     "text": [
      "Seu endereço é: Rua Augusto Bulle - São Bernardo do Campo - 09790-470\n"
     ]
    }
   ],
   "source": [
    "def endereco(rua, cidade, cep):\n",
    "    print(\"Seu endereço é:\",rua,\"-\",cidade,\"-\",cep)\n",
    "\n",
    "r = input(\"Rua:\")\n",
    "cd = input(\"Cidade:\")\n",
    "cp = input(\"CEP:\")\n",
    "endereco(r, cd, cp)"
   ]
  },
  {
   "cell_type": "markdown",
   "metadata": {},
   "source": [
    "# Retornando um resultado de uma função"
   ]
  },
  {
   "cell_type": "markdown",
   "metadata": {},
   "source": [
    "```\n",
    "def nome_função(argumentos_opcionais):\n",
    "    <instruções (corpo da função)>\n",
    "    return expression \n",
    "```"
   ]
  },
  {
   "cell_type": "code",
   "execution_count": 31,
   "metadata": {},
   "outputs": [
    {
     "name": "stdout",
     "output_type": "stream",
     "text": [
      "100\n"
     ]
    }
   ],
   "source": [
    "def calcular(a, b):\n",
    "    resultado = 0\n",
    "    resultado = (a + b)**2\n",
    "    print(resultado)\n",
    "    \n",
    "numero1 = int(input(\"Digite um número inteiro: \"))\n",
    "numero2 = int(input(\"digite um númeor inteiro: \"))\n",
    "\n",
    "calcular(numero1,numero2)"
   ]
  },
  {
   "cell_type": "markdown",
   "metadata": {},
   "source": [
    "Essa função recebe dois argumentos e exibe o resultado. No entanto, assim que a função é encerrada, a variável `resultado` é deletada. O que acontece se tentarmos acessá-la?"
   ]
  },
  {
   "cell_type": "code",
   "execution_count": null,
   "metadata": {},
   "outputs": [],
   "source": [
    "print (resultado)"
   ]
  },
  {
   "cell_type": "markdown",
   "metadata": {},
   "source": [
    "Para utilizar a variável devemos usar a palavra-chave `return` dentro de uma função."
   ]
  },
  {
   "cell_type": "code",
   "execution_count": 35,
   "metadata": {},
   "outputs": [
    {
     "name": "stdout",
     "output_type": "stream",
     "text": [
      "144\n"
     ]
    }
   ],
   "source": [
    "def calcular(a, b):\n",
    "    resultado = 0\n",
    "    resultado = (a + b)**2\n",
    "    return resultado\n",
    "    \n",
    "numero1 = int(input(\"Digite um número inteiro: \"))\n",
    "numero2 = int(input(\"digite um número inteiro: \"))\n",
    "\n",
    "resultado = calcular(numero1,numero2)\n",
    "print (resultado)"
   ]
  },
  {
   "cell_type": "code",
   "execution_count": 36,
   "metadata": {},
   "outputs": [
    {
     "name": "stdout",
     "output_type": "stream",
     "text": [
      "144\n"
     ]
    }
   ],
   "source": [
    "print(resultado)"
   ]
  },
  {
   "cell_type": "markdown",
   "metadata": {},
   "source": [
    "Agora podemos fazer outras manipulações com base no resultado que obtivemos."
   ]
  },
  {
   "cell_type": "code",
   "execution_count": null,
   "metadata": {},
   "outputs": [],
   "source": [
    "# coloque seu código aqui\n"
   ]
  },
  {
   "cell_type": "markdown",
   "metadata": {},
   "source": [
    "Retomando a função do cálculo da média aritmética:"
   ]
  },
  {
   "cell_type": "code",
   "execution_count": 38,
   "metadata": {},
   "outputs": [
    {
     "name": "stdout",
     "output_type": "stream",
     "text": [
      "a média é: 19.0\n"
     ]
    }
   ],
   "source": [
    "def calcular_media(numeros):\n",
    "    '''\n",
    "    calcula a media aritmética\n",
    "    usando uma lista\n",
    "    '''\n",
    "    total = 0 \n",
    "    for num in numeros:\n",
    "        total += num\n",
    "\n",
    "    mediaartm = total / len(numeros)\n",
    "    return mediaartm\n",
    "nlista = [10, 10, 15, 20, 40]\n",
    "mediaartm = calcular_media(nlista)\n",
    "print(\"a média é:\", mediaartm)\n"
   ]
  },
  {
   "cell_type": "markdown",
   "metadata": {},
   "source": [
    "# Documentação - boas práticas - docstrings"
   ]
  },
  {
   "cell_type": "code",
   "execution_count": 39,
   "metadata": {},
   "outputs": [
    {
     "name": "stdout",
     "output_type": "stream",
     "text": [
      "\n",
      "    calcula a media aritmética\n",
      "    usando uma lista\n",
      "    \n"
     ]
    }
   ],
   "source": [
    "print(calcular_media.__doc__)"
   ]
  },
  {
   "cell_type": "code",
   "execution_count": 40,
   "metadata": {},
   "outputs": [
    {
     "name": "stdout",
     "output_type": "stream",
     "text": [
      "Return the number of items in a container.\n"
     ]
    }
   ],
   "source": [
    "# documentação da função nativa len()\n",
    "print(len.__doc__)"
   ]
  }
 ],
 "metadata": {
  "kernelspec": {
   "display_name": "Python 3",
   "language": "python",
   "name": "python3"
  },
  "language_info": {
   "codemirror_mode": {
    "name": "ipython",
    "version": 3
   },
   "file_extension": ".py",
   "mimetype": "text/x-python",
   "name": "python",
   "nbconvert_exporter": "python",
   "pygments_lexer": "ipython3",
   "version": "3.11.4"
  }
 },
 "nbformat": 4,
 "nbformat_minor": 2
}
