{
 "cells": [
  {
   "cell_type": "markdown",
   "metadata": {},
   "source": [
    "**Revisão**\n",
    "\n",
    "#### def\n",
    "```\n",
    "def nome_função(argumentos_opcionais):\n",
    "    <instruções (corpo da função)>\n",
    "    return expressão\n",
    "```\n",
    "\n",
    "- começa sempre com a palavra-chave *def* (de define);  \n",
    "- depois de *def* passamos o nome da função (as regras para nomear funções são exatamente as mesmas que para nomear variáveis);  \n",
    "- em seguida ao nome da função, há um par de parênteses obrigatórios, são os argumentos opcionais da função;\n",
    "- a linha deve ser terminada com dois pontos;\n",
    "- a linha logo após *def* inicia o corpo da função - um par (pelo menos um) de instruções necessariamente aninhadas, que serão executadas sempre que a função for chamada.\n",
    "- *return* é usado para especificar o valor que a função deve retornar. Nem todas as funções precisam ter um comando \"return\". Se ausente, a função retornará \"None\" por padrão.\n",
    "Veja um exemplo simples:\n",
    "\n",
    "```\n",
    "def somar(a, b):\n",
    "    resultado = a + b\n",
    "    return resultado\n",
    "```\n",
    "#chamando a função\n",
    "resultado_soma = somar(3, 4)\n",
    "print(resultado_soma)  # Saída: 7\n",
    "```\n",
    "\n",
    "#### argumentos posicionais \n",
    "\n",
    "````\n",
    "def funcao(nome,lugar):\n",
    "  print(f\"Olá {nome}! Você é de {lugar}?\")\n",
    "\n",
    "#chamando a função\n",
    "funcao(\"Maria\",\"Paris\")\n",
    "funcao(lugar=\"São Paulo\",nome=\"Roberto\")\n",
    "\n",
    "```\n",
    "\n",
    "O Python oferece outra convenção para a passagem de argumentos, chamado de *palavra-chave*.  \n",
    "Portanto, no exemplo acima, o primeiro argumento é o `nome` e o segundo é o `lugar`.  \n",
    "Nesse caso, podemos usar a *palavra-chave*  para determinar qual argumento queremos usar, independente da posição original.\n",
    "\n",
    "#### valor-padrão\n",
    "\n",
    "Podemos especificar os *valores-padrão* dos argumentos caso eles não sejam fornecidos nenhum valor eles assumem os valores determinados na função.  \n",
    "por exemplo `temp_max=30`\n",
    "```\n",
    "def comissao(valor=1000, bonus=50):\n",
    "  total = valor + bonus\n",
    "  print(f\"O total da comissão será de R${total}\")\n",
    "\n",
    "#chamando a função\n",
    "comissao()\n",
    "\n",
    "```"
   ]
  },
  {
   "cell_type": "code",
   "execution_count": 1,
   "metadata": {},
   "outputs": [
    {
     "name": "stdout",
     "output_type": "stream",
     "text": [
      "7\n",
      "Olá Maria! Você é de Paris?\n",
      "Olá Roberto! Você é de São Paulo?\n",
      "O total da comissão será de R$1050\n"
     ]
    }
   ],
   "source": [
    "# def\n",
    "def somar(a, b):\n",
    "    resultado = a + b\n",
    "    return resultado\n",
    "\n",
    "#chamando a função\n",
    "resultado_soma = somar(3, 4)\n",
    "print(resultado_soma)  # Saída: 7\n",
    "\n",
    "\n",
    "#argumentos posicionais \n",
    "def funcao(nome,lugar):\n",
    "  print(f\"Olá {nome}! Você é de {lugar}?\")\n",
    "\n",
    "#chamando a função\n",
    "#caso precise inverter a ordem dos argumentos dentro da função, terá de inserir argumento + '=' para atribuir um novo valor\n",
    "funcao(\"Maria\",\"Paris\")\n",
    "funcao(lugar=\"São Paulo\",nome=\"Roberto\")\n",
    "\n",
    "\n",
    "# valor-padrão\n",
    "def comissao(valor=1000, bonus=50):\n",
    "  total = valor + bonus\n",
    "  print(f\"O total da comissão será de R${total}\")\n",
    "\n",
    "#chamando a função\n",
    "comissao()"
   ]
  },
  {
   "cell_type": "markdown",
   "metadata": {},
   "source": [
    "-----------------------------------------"
   ]
  },
  {
   "cell_type": "markdown",
   "metadata": {},
   "source": [
    "**Problema 1: Encontrando o Maior Entre Dois Números**\n",
    "\n",
    "Escreva uma função em Python chamada `encontrar_maior` que recebe dois números, **a** e **b**, e retorna o maior deles.\n",
    "\n",
    "Ou seja:  \n",
    "Se **a** for maior que **b**, a função deve retornar **a**; caso contrário, deve retornar **b**.   \n",
    "\n",
    "Certifique-se de testar sua função com diferentes conjuntos de valores para garantir que ela esteja funcionando corretamente.  \n",
    "\n",
    "Teste com os valores:  \n",
    "encontrar_maior(5, 6)  \n",
    "encontrar_maior(2, 1)  \n",
    "encontrar_maior(7, 7)  \n"
   ]
  },
  {
   "cell_type": "code",
   "execution_count": 2,
   "metadata": {},
   "outputs": [
    {
     "name": "stdout",
     "output_type": "stream",
     "text": [
      "máximo(5,6) -> 9\n",
      "máximo(5,6) -> 6\n",
      "máximo(2,1) -> 2\n",
      "máximo(7,7) -> 7\n"
     ]
    }
   ],
   "source": [
    "def encontrar_maior(a, b):\n",
    "    \n",
    "    if a > b:\n",
    "        return a\n",
    "    else:\n",
    "        return b\n",
    "    \n",
    "# input da função \n",
    "a = int(input(\"digite um número inteiro: \"))\n",
    "b = int(input(\"digite um número inteiro: \"))\n",
    "\n",
    "print(f\"máximo(5,6) -> {encontrar_maior(a,b)}\")\n",
    " \n",
    "# manualmente\n",
    "print(f\"máximo(5,6) -> {encontrar_maior(5,6)}\")\n",
    "print(f\"máximo(2,1) -> {encontrar_maior(2,1)}\")\n",
    "print(f\"máximo(7,7) -> {encontrar_maior(7,7)}\")\n"
   ]
  },
  {
   "cell_type": "markdown",
   "metadata": {},
   "source": [
    "**Problema 2: Calculadora Simples**\n",
    "\n",
    "Crie uma função em Python chamada `calculadora` que recebe dois números e uma operação como argumentos.\n",
    "\n",
    "A operação pode ser uma entre adição, subtração, multiplicação ou divisão.  \n",
    "\n",
    "A função deve retornar o resultado da operação aplicada aos dois números fornecidos.  \n",
    "\n",
    "Certifique-se de testar sua função com diferentes pares de números e operações para garantir sua correta implementação."
   ]
  },
  {
   "cell_type": "code",
   "execution_count": 38,
   "metadata": {},
   "outputs": [
    {
     "name": "stdout",
     "output_type": "stream",
     "text": [
      "5\n",
      "6\n",
      "7.0\n",
      "8.0\n"
     ]
    }
   ],
   "source": [
    "# criando a função calculadora, definindo que ela receberá dois valores e uma operação\n",
    "def calculadora(num1, num2, operação):\n",
    "# criando as operações e definindo o nome de cada uma\n",
    "    if operação == 'adição':\n",
    "        resultado = num1 + num2\n",
    "    elif operação == 'subtração':\n",
    "        resultado = num1 - num2\n",
    "    elif operação == 'multiplicação':\n",
    "        resultado = num1 * num2\n",
    "    elif operação == 'divisão':\n",
    "        resultado = num1 / num2\n",
    "    \n",
    "    return resultado\n",
    "\n",
    "# agora pode-se ver que é possível fazer cada cálculo dentro da função apenas inserindo dois valores e escrevendo o nome da operação  \n",
    "print(calculadora(2, 3, 'adição'))  \n",
    "print(calculadora(10, 4, 'subtração'))  \n",
    "print(calculadora(2, 3.5, 'multiplicação'))  \n",
    "print(calculadora(16, 2, 'divisão'))"
   ]
  },
  {
   "cell_type": "markdown",
   "metadata": {},
   "source": [
    "**Problema 3: Somando Números em uma Lista**\n",
    "\n",
    "Escreva uma função em Python chamada `somar_lista` que recebe uma lista de números como argumento e retorna a soma de todos esses números. \n",
    "\n",
    "Utilize a instrução `for` para percorrer os números na lista. Teste sua função com a lista de exemplo fornecida: [8, -2, 3, 0, 7]. \n",
    " \n",
    "Certifique-se de considerar diferentes conjuntos de valores ao testar sua função para garantir sua eficácia."
   ]
  },
  {
   "cell_type": "code",
   "execution_count": 39,
   "metadata": {},
   "outputs": [
    {
     "name": "stdout",
     "output_type": "stream",
     "text": [
      "A soma da lista [8, -2, 3, 0, 7] é: 16\n"
     ]
    }
   ],
   "source": [
    "# criando função somar_lista e inserindo um argumento chamado 'lista'\n",
    "def somar_lista(lista):\n",
    "    soma = 0\n",
    "    for numero in lista:\n",
    "        soma += numero\n",
    "    return soma\n",
    "# adicionando números a lista e utilizando a função\n",
    "lista = [8, -2, 3, 0, 7]\n",
    "resultado = somar_lista(lista)\n",
    "print(f\"A soma da lista {lista} é: {resultado}\")"
   ]
  },
  {
   "cell_type": "markdown",
   "metadata": {},
   "source": [
    "**Problema 4: Verificando Pertencimento a um Intervalo**\n",
    "\n",
    "Escreva uma função em Python chamada `verificar_intervalo` que recebe um número, um limite inferior e um limite superior como argumentos.  \n",
    "\n",
    "A função deve utilizar a expressão *limite_inferior <= numero <= limite_superior* para verificar se o número está dentro do intervalo especificado.  \n",
    "\n",
    "Se o número estiver dentro do intervalo, a função deve retornar `True`; caso contrário, deve retornar `False`.  \n",
    "\n",
    "Certifique-se de testar sua função com diferentes combinações de números e intervalos para garantir sua eficácia."
   ]
  },
  {
   "cell_type": "code",
   "execution_count": 56,
   "metadata": {},
   "outputs": [
    {
     "data": {
      "text/plain": [
       "False"
      ]
     },
     "execution_count": 56,
     "metadata": {},
     "output_type": "execute_result"
    }
   ],
   "source": [
    "def verificar_intervalo(lmt_int, num, lmt_sup):\n",
    "    expressao = lmt_int <= num <= lmt_sup\n",
    "\n",
    "    if num == expressao:\n",
    "        return True\n",
    "    else:\n",
    "        return False\n",
    "verificar_intervalo(9, 1, 9)\n",
    "\n"
   ]
  },
  {
   "cell_type": "markdown",
   "metadata": {},
   "source": [
    "**Problema 5: Calculando o Custo Total de Compras**\n",
    "\n",
    "Crie uma função em Python chamada `calcular_custo_total` que recebe três argumentos posicionais:  \n",
    " - `produto` (nome do produto),  \n",
    " - `preco_unitario` (preço de uma unidade do produto) \n",
    " - `quantidade` (quantidade de unidades compradas).  \n",
    " \n",
    "A função deve calcular e imprimir o custo total da compra do produto. \n",
    " \n",
    " Utilize a função para calcular o custo total de pelo menos dois produtos diferentes, fornecendo seus nomes, preços unitários e quantidades como argumentos."
   ]
  },
  {
   "cell_type": "code",
   "execution_count": 7,
   "metadata": {},
   "outputs": [
    {
     "name": "stdout",
     "output_type": "stream",
     "text": [
      "O custo total da compra de 3 unidades de Camiseta é: R$77.97\n",
      "O custo total da compra de 2 unidades de Livro é: R$99.80\n"
     ]
    }
   ],
   "source": [
    "def calcular_custo_total(produto, preco_unitario, quantidade):\n",
    "    custo_total = preco_unitario * quantidade\n",
    "    print(f\"O custo total da compra de {quantidade} unidades de {produto} é: R${custo_total:.2f}\")\n",
    "\n",
    "calcular_custo_total(\"Camiseta\", 25.99, 3)\n",
    "calcular_custo_total(\"Livro\", 49.90, 2)\n"
   ]
  },
  {
   "cell_type": "markdown",
   "metadata": {},
   "source": [
    "**Problema 6: Calculadora de Gorjetas**  \n",
    "\n",
    "Crie uma função em Python chamada `calcular_gorjeta` que recebe dois argumentos: \n",
    "\n",
    "- `valor_conta` (o valor da conta a ser paga)  \n",
    "- `porcentagem_gorjeta` (a porcentagem de gorjeta desejada).  \n",
    "\n",
    "\n",
    "A função deve receber através de `input` o valor da conta e a porcentagem de gorjeta desejada, em seguida apresentar o valor total com a gorjeta.  \n",
    "\n",
    "A função deve calcular a gorjeta a ser paga em um restaurante e imprimir o resultado.\n",
    "\n",
    "- dica: gorjeta = valor_conta * (percentual_gorjeta / 100)"
   ]
  },
  {
   "cell_type": "code",
   "execution_count": 3,
   "metadata": {},
   "outputs": [
    {
     "name": "stdout",
     "output_type": "stream",
     "text": [
      "o valor da gorgeta será de 50.0\n"
     ]
    }
   ],
   "source": [
    "def calcular_gorgeta(valor_conta, porcentagem_gorgeta):\n",
    "    return (valor_conta * porcentagem_gorgeta) / 100\n",
    "print(f\"o valor da gorgeta será de {calcular_gorgeta(100, 50)}\")"
   ]
  },
  {
   "cell_type": "markdown",
   "metadata": {},
   "source": [
    "**Problema 7: Conversor de Moedas**  \n",
    "\n",
    "Desenvolva uma função que converta valores em Reais para Dólar.  \n",
    "Peça ao usuário que insira o valor em reais e a taxa de câmbio. Em seguida, ela realiza a conversão e retorna o valor em dólares.  \n",
    "Após a conversão, print o resultado."
   ]
  },
  {
   "cell_type": "code",
   "execution_count": 4,
   "metadata": {},
   "outputs": [
    {
     "name": "stdout",
     "output_type": "stream",
     "text": [
      "U$204.92\n"
     ]
    }
   ],
   "source": [
    "def conv_dolar(valorReais, cotacaoDolar):\n",
    "    valorDolar = valorReais / cotacaoDolar\n",
    "\n",
    "    print(\"U$%.2f\"% valorDolar)\n",
    "conv_dolar(1000 , 4.88)"
   ]
  },
  {
   "cell_type": "markdown",
   "metadata": {},
   "source": [
    "**Problema 8: Calculando o Custo Total de Compras com Desconto**  \n",
    "\n",
    "Crie uma função em Python chamada `calcular_custo_com_desconto` que recebe três argumentos posicionais:  \n",
    "- `produto` (nome do produto),  \n",
    "- `preco_unitario` (preço de uma unidade do produto)  \n",
    "- `quantidade` (quantidade de unidades compradas) e   \n",
    "- um argumento opcional `desconto_percentual` com um valor padrão de 0 (sem desconto).  \n",
    "\n",
    "A função deve receber através de `input` os valores dos argumentos (produto, preco_unitario, quantidade, desconto_percentual).\n",
    "\n",
    "A função deve calcular o custo total da compra do produto, aplicando o desconto se fornecido, e imprimir o resultado."
   ]
  },
  {
   "cell_type": "code",
   "execution_count": 5,
   "metadata": {},
   "outputs": [
    {
     "name": "stdout",
     "output_type": "stream",
     "text": [
      "O custo total do produtCamisa é R$ 60\n",
      "O custo total do produtCamisa é R$ 54.0\n"
     ]
    }
   ],
   "source": [
    "def calcular_custo_com_desconto(produto, preco_unitario, quantidade, desconto = 0):\n",
    "    custo_total = preco_unitario * quantidade\n",
    "    custo_total = custo_total * (1 - (desconto/100)) if desconto != 0 else custo_total \n",
    "\n",
    "    print(f\"O custo total do produt{produto} é R$ {custo_total}\")\n",
    "\n",
    "calcular_custo_com_desconto('Camisa',20, 3)\n",
    "calcular_custo_com_desconto('Camisa',20, 3, 10)\n"
   ]
  },
  {
   "cell_type": "code",
   "execution_count": null,
   "metadata": {},
   "outputs": [],
   "source": []
  }
 ],
 "metadata": {
  "kernelspec": {
   "display_name": "Python 3",
   "language": "python",
   "name": "python3"
  },
  "language_info": {
   "codemirror_mode": {
    "name": "ipython",
    "version": 3
   },
   "file_extension": ".py",
   "mimetype": "text/x-python",
   "name": "python",
   "nbconvert_exporter": "python",
   "pygments_lexer": "ipython3",
   "version": "3.11.4"
  }
 },
 "nbformat": 4,
 "nbformat_minor": 2
}
