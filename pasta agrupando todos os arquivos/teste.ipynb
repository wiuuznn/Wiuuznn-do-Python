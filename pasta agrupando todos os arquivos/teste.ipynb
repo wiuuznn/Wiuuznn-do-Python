{
 "cells": [
  {
   "cell_type": "code",
   "execution_count": 1,
   "metadata": {},
   "outputs": [
    {
     "name": "stdout",
     "output_type": "stream",
     "text": [
      "Olá mundo!\n"
     ]
    }
   ],
   "source": [
    "# Código que imorime na tela o texto \"Olá mundo!\"\n",
    "print(\"Olá mundo!\") # execução da intrução print"
   ]
  },
  {
   "cell_type": "markdown",
   "metadata": {},
   "source": [
    "# titulo \n",
    "## titulo 2 \n",
    "### titulo 3\n",
    "###### Luciano pai do Corinthians\n",
    "paragráfo normal\n",
    "\n",
    "\n",
    "paragrafo **normal 2**\n",
    "\n",
    "listas ordenadas: (1. , 2. , etc)\n",
    "\n",
    "1. teste \n",
    "2. teste \n",
    "3. teste\n",
    "\n",
    "níveis e subníveis: (-  ,-    ,-      )\n",
    "\n",
    "- teste \n",
    "- teste \n",
    "  - teste 2 \n",
    "    - teste 3\n",
    "- teste\n",
    "\n",
    "# lista de tarefas: colchetes ([]) espaço e (X)\n",
    "- [x] tarefa 1\n",
    "- [ ] tarefa 2 \n",
    "- [ ] tarefa 3\n",
    "\n",
    "# [clique aqui para ver a imagem mais satisfatória do planeta](https://tntsports.com.br/__export/1690388251814/sites/esporteinterativo/img/2023/07/26/gazeta-press-foto-1911273_1.jpg)\n",
    "\n",
    "# imagem \n",
    "![o jogador de futebol mais odiado pelas torcidas rivais!](https://s2-ge.glbimg.com/Jk-Qp77T3auonDKiWx_jL-wyxck=/0x0:5568x3712/984x0/smart/filters:strip_icc()/i.s3.glbimg.com/v1/AUTH_bc8228b6673f488aa253bbcb03c80ec5/internal_photos/bs/2023/v/I/ujN3hyQm2SO1EeJSdC2Q/rib9315.jpg)\n",
    " \n",
    " # imagem \n",
    " ![rafinha lateral sp](rafinha_lateral_sp.jpg)"
   ]
  },
  {
   "cell_type": "markdown",
   "metadata": {},
   "source": []
  }
 ],
 "metadata": {
  "kernelspec": {
   "display_name": "base",
   "language": "python",
   "name": "python3"
  },
  "language_info": {
   "codemirror_mode": {
    "name": "ipython",
    "version": 3
   },
   "file_extension": ".py",
   "mimetype": "text/x-python",
   "name": "python",
   "nbconvert_exporter": "python",
   "pygments_lexer": "ipython3",
   "version": "3.11.4"
  },
  "orig_nbformat": 4
 },
 "nbformat": 4,
 "nbformat_minor": 2
}
